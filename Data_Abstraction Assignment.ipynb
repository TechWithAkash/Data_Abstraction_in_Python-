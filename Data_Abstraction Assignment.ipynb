{
 "cells": [
  {
   "cell_type": "markdown",
   "id": "5557161b-7529-4971-ad7b-fd4560c28361",
   "metadata": {},
   "source": [
    "Q1. What is Abstraction in OOps? Explain with an example.\n",
    "\n",
    "==>>\n",
    "Abstraction in python is defined as a process of handling complexity by hiding unnecessary information from the user. This is one of the core concepts of object-oriented programming (OOP) languages. That enables the user to implement even more complex logic on top of the provided abstraction without understanding or even thinking about all the hidden background/back-end complexity.\n"
   ]
  },
  {
   "cell_type": "code",
   "execution_count": 1,
   "id": "da0d5578-9cfe-46dc-be8f-4fc206c14be0",
   "metadata": {},
   "outputs": [],
   "source": [
    "#Example of Abstraction\n",
    "import abc\n",
    "class pwskills:\n",
    "         @abc.abstractmethod\n",
    "         def student_details(self):\n",
    "            pass\n",
    "        \n",
    "            @abc.abstractmethod\n",
    "            def student_marks(self):\n",
    "                pass\n",
    "        \n",
    "        \n",
    "            @abc.abstractmethod\n",
    "            def student_assignment(self):\n",
    "                pass\n",
    "        \n",
    "        "
   ]
  },
  {
   "cell_type": "code",
   "execution_count": 2,
   "id": "0d8ca2dc-0f3f-48b8-b99d-c1f13690380b",
   "metadata": {},
   "outputs": [],
   "source": [
    "class student_details(pwskills):\n",
    "    \n",
    "    def student_details(self):\n",
    "        return \"Thus will returrn of student details at pwskilss\"\n",
    "    \n",
    "    def student_assignment(self):\n",
    "        \n",
    "        return \"This will return student assgnment\"\n",
    "    \n",
    "    def student_marrks(self):\n",
    "        return \"This will return data sscince  studnete amarks\"\n",
    "    \n",
    "    "
   ]
  },
  {
   "cell_type": "code",
   "execution_count": 3,
   "id": "c115b97c-2096-4bf1-be77-582140642ce5",
   "metadata": {},
   "outputs": [],
   "source": [
    "stud = student_details()"
   ]
  },
  {
   "cell_type": "code",
   "execution_count": 5,
   "id": "05a7540a-4e16-4790-b315-72057c263a1a",
   "metadata": {},
   "outputs": [
    {
     "data": {
      "text/plain": [
       "'This will return student assgnment'"
      ]
     },
     "execution_count": 5,
     "metadata": {},
     "output_type": "execute_result"
    }
   ],
   "source": [
    "stud. student_assignment()"
   ]
  },
  {
   "cell_type": "code",
   "execution_count": 8,
   "id": "3a8486de-a042-4155-81a2-5e768690580e",
   "metadata": {},
   "outputs": [
    {
     "data": {
      "text/plain": [
       "'This will return data sscince  studnete amarks'"
      ]
     },
     "execution_count": 8,
     "metadata": {},
     "output_type": "execute_result"
    }
   ],
   "source": [
    "stud.student_marrks()"
   ]
  },
  {
   "cell_type": "code",
   "execution_count": null,
   "id": "ff3ecbf6-d997-4342-8c6d-dfe5337d0dd3",
   "metadata": {},
   "outputs": [],
   "source": []
  },
  {
   "cell_type": "markdown",
   "id": "a4126e97-9eec-4755-b0dd-0c90cdefda0d",
   "metadata": {},
   "source": [
    "Q2. Differentiate between Abstraction and Encapsulation. Explain with an example."
   ]
  },
  {
   "cell_type": "markdown",
   "id": "c5946479-8c47-4fba-b3e0-8aa63b36b64d",
   "metadata": {},
   "source": [
    "==>In Python, abstraction and encapsulation are concepts that are closely related but serve different purposes. Let's differentiate between them in the context of Python:\n",
    "\n",
    "1)Abstraction in Python:\n",
    "Abstraction in Python involves creating abstract classes or interfaces that define the common characteristics and behaviors of objects without specifying their implementation details. It focuses on providing a simplified view of an object or a system by hiding unnecessary complexities."
   ]
  },
  {
   "cell_type": "code",
   "execution_count": 2,
   "id": "58e2c172-f268-4dfb-a61a-3570627a3295",
   "metadata": {},
   "outputs": [
    {
     "name": "stdout",
     "output_type": "stream",
     "text": [
      "Woof!\n",
      "Meow!\n"
     ]
    }
   ],
   "source": [
    "#Example of Abstraction in Python:\n",
    "from abc import ABC, abstractmethod\n",
    "\n",
    "class Animal(ABC):\n",
    "    @abstractmethod\n",
    "    def make_sound(self):\n",
    "        pass\n",
    "\n",
    "class Dog(Animal):\n",
    "    def make_sound(self):\n",
    "        print(\"Woof!\")\n",
    "\n",
    "class Cat(Animal):\n",
    "    def make_sound(self):\n",
    "        print(\"Meow!\")\n",
    "\n",
    "dog = Dog()\n",
    "dog.make_sound()  \n",
    "\n",
    "cat = Cat()\n",
    "cat.make_sound() \n",
    "\n"
   ]
  },
  {
   "cell_type": "markdown",
   "id": "99f135de-e688-41a6-9ddd-d23a486e3c26",
   "metadata": {},
   "source": [
    "2)Encapsulation in Python:\n",
    "\n",
    "\n",
    "Encapsulation in Python involves bundling data (attributes) and methods (functions) that operate on that data into a single unit called a class. It ensures that the internal state of an object is accessed and modified only through defined interfaces, and it provides data protection and organization."
   ]
  },
  {
   "cell_type": "code",
   "execution_count": 3,
   "id": "007c4536-df17-4acb-8971-8852e00bf909",
   "metadata": {},
   "outputs": [
    {
     "name": "stdout",
     "output_type": "stream",
     "text": [
      "1300\n"
     ]
    }
   ],
   "source": [
    "#Example of Encapsulation in Python:\n",
    "class BankAccount:\n",
    "    def __init__(self, account_number, balance):\n",
    "        self.__account_number = account_number\n",
    "        self.__balance = balance\n",
    "\n",
    "    def deposit(self, amount):\n",
    "        self.__balance += amount\n",
    "\n",
    "    def withdraw(self, amount):\n",
    "        if self.__balance >= amount:\n",
    "            self.__balance -= amount\n",
    "        else:\n",
    "            print(\"Insufficient balance\")\n",
    "\n",
    "    def check_balance(self):\n",
    "        return self.__balance\n",
    "\n",
    "account = BankAccount(\"123456789\", 1000)\n",
    "account.deposit(500)\n",
    "account.withdraw(200)\n",
    "print(account.check_balance())  # Output: 1300\n",
    "\n"
   ]
  },
  {
   "cell_type": "code",
   "execution_count": null,
   "id": "96834cd5-ac68-408b-a131-bebe9cac947c",
   "metadata": {},
   "outputs": [],
   "source": []
  },
  {
   "cell_type": "markdown",
   "id": "5a643423-dd82-461e-91e0-ce3f3ab101fa",
   "metadata": {},
   "source": [
    "Q3. What is abc module in python? Why is it used?\n",
    "\n"
   ]
  },
  {
   "cell_type": "markdown",
   "id": "4da482fc-4f0a-4414-b517-aad2993e1c5b",
   "metadata": {},
   "source": [
    "==>>The abc module in Python stands for \"Abstract Base Classes.\" It is a module that provides mechanisms for defining abstract base classes (ABCs) in Python. An abstract base class is a class that cannot be instantiated and is meant to be subclassed by other classes. The abc module is used to define and work with abstract base classes in Python."
   ]
  },
  {
   "cell_type": "code",
   "execution_count": null,
   "id": "3a5ca380-3d50-438b-b509-a44ca89cf11e",
   "metadata": {},
   "outputs": [],
   "source": []
  },
  {
   "cell_type": "markdown",
   "id": "5e9c7f95-f994-41cf-8208-e4840326ab92",
   "metadata": {},
   "source": [
    "Q4. How can we achieve data abstraction?"
   ]
  },
  {
   "cell_type": "markdown",
   "id": "2845b43d-e4de-49bb-b123-6c48db753837",
   "metadata": {},
   "source": [
    "==>\n",
    "\n",
    "In object-oriented programming, data abstraction is achieved by using abstract classes, interfaces, or access modifiers to hide the internal details and provide a simplified view of data. "
   ]
  },
  {
   "cell_type": "code",
   "execution_count": null,
   "id": "09fd2e72-e1ae-4f23-85f6-d7f474ef4e8f",
   "metadata": {},
   "outputs": [],
   "source": []
  },
  {
   "cell_type": "markdown",
   "id": "3370bec5-4838-4781-930c-006c64593564",
   "metadata": {},
   "source": [
    "Q5. Can we create an instance of an abstract class? Explain your answer.\n",
    "\n"
   ]
  },
  {
   "cell_type": "markdown",
   "id": "3adeb84e-1383-486e-b485-f26c2344254c",
   "metadata": {},
   "source": [
    "==>\n",
    "No, we cannot create an instance of an abstract class in Python. An abstract class is a class that is meant to be subclassed, and it cannot be instantiated on its own. It serves as a blueprint for other classes to inherit from and provides a common interface or contract that its subclasses must implement.\n",
    "\n",
    "Abstract classes are created using the abc module in Python, which stands for \"Abstract Base Classes.\" This module provides the ABC class and the abstractmethod decorator, which are used to define abstract methods and classes.\n",
    "\n",
    "When we try to instantiate an abstract class directly, it will raise a TypeError because abstract classes are incomplete and lack the necessary implementation details for the abstract methods."
   ]
  },
  {
   "cell_type": "code",
   "execution_count": 6,
   "id": "93dff72f-fe4b-4201-8262-788d2d5da0a8",
   "metadata": {},
   "outputs": [
    {
     "ename": "TypeError",
     "evalue": "Can't instantiate abstract class AbstractClass with abstract method abstract_method",
     "output_type": "error",
     "traceback": [
      "\u001b[0;31m---------------------------------------------------------------------------\u001b[0m",
      "\u001b[0;31mTypeError\u001b[0m                                 Traceback (most recent call last)",
      "Cell \u001b[0;32mIn[6], line 10\u001b[0m\n\u001b[1;32m      5\u001b[0m     \u001b[38;5;129m@abstractmethod\u001b[39m\n\u001b[1;32m      6\u001b[0m     \u001b[38;5;28;01mdef\u001b[39;00m \u001b[38;5;21mabstract_method\u001b[39m(\u001b[38;5;28mself\u001b[39m):\n\u001b[1;32m      7\u001b[0m         \u001b[38;5;28;01mpass\u001b[39;00m\n\u001b[0;32m---> 10\u001b[0m obj \u001b[38;5;241m=\u001b[39m \u001b[43mAbstractClass\u001b[49m\u001b[43m(\u001b[49m\u001b[43m)\u001b[49m\n",
      "\u001b[0;31mTypeError\u001b[0m: Can't instantiate abstract class AbstractClass with abstract method abstract_method"
     ]
    }
   ],
   "source": [
    "#Example\n",
    "from abc import ABC, abstractmethod\n",
    "\n",
    "class AbstractClass(ABC):\n",
    "    @abstractmethod\n",
    "    def abstract_method(self):\n",
    "        pass\n",
    "\n",
    "\n",
    "obj = AbstractClass()\n"
   ]
  },
  {
   "cell_type": "markdown",
   "id": "b47304af-246e-4b0c-bf1b-9f81c2ea7f2f",
   "metadata": {},
   "source": [
    "In above Exaple we can clearly seen that the program raise an error while creating an instance of the class."
   ]
  },
  {
   "cell_type": "code",
   "execution_count": null,
   "id": "2c5ba480-9450-46e3-9d15-db60ef5a5fa4",
   "metadata": {},
   "outputs": [],
   "source": []
  }
 ],
 "metadata": {
  "kernelspec": {
   "display_name": "Python 3 (ipykernel)",
   "language": "python",
   "name": "python3"
  },
  "language_info": {
   "codemirror_mode": {
    "name": "ipython",
    "version": 3
   },
   "file_extension": ".py",
   "mimetype": "text/x-python",
   "name": "python",
   "nbconvert_exporter": "python",
   "pygments_lexer": "ipython3",
   "version": "3.10.8"
  },
  "toc-autonumbering": false
 },
 "nbformat": 4,
 "nbformat_minor": 5
}
